{
 "cells": [
  {
   "cell_type": "code",
   "execution_count": 1,
   "metadata": {},
   "outputs": [],
   "source": [
    "from tensorscaling import scale, unit_tensor, marginal\n",
    "import numpy as np"
   ]
  },
  {
   "cell_type": "markdown",
   "metadata": {},
   "source": [
    "# Tensor scaling"
   ]
  },
  {
   "cell_type": "markdown",
   "metadata": {},
   "source": [
    "Scale 3x3x3 unit tensor to certain non-uniform marginals:"
   ]
  },
  {
   "cell_type": "code",
   "execution_count": 2,
   "metadata": {},
   "outputs": [
    {
     "data": {
      "text/plain": [
       "Result(success=True, iterations=92, max_dist=7.441191287479101e-05, ..., log_cap=-0.22911478596326992)"
      ]
     },
     "execution_count": 2,
     "metadata": {},
     "output_type": "execute_result"
    }
   ],
   "source": [
    "shape = [3, 3, 3]\n",
    "targets = [(0.5, 0.25, 0.25), (0.4, 0.3, 0.3), (0.7, 0.2, 0.1)]\n",
    "\n",
    "res = scale(unit_tensor(3, 3), targets, eps=1e-4)\n",
    "res"
   ]
  },
  {
   "cell_type": "markdown",
   "metadata": {},
   "source": [
    "We can also access the scaling matrices and the final scaled state:"
   ]
  },
  {
   "cell_type": "code",
   "execution_count": 3,
   "metadata": {},
   "outputs": [
    {
     "name": "stdout",
     "output_type": "stream",
     "text": [
      "[[ 1.45035287+0.j          0.        +0.j          0.        +0.j        ]\n",
      " [-0.14729358-0.17484196j  0.62605858+0.j          0.        +0.j        ]\n",
      " [ 0.22074165+0.05528096j  0.14299424+0.02410229j  0.89191091+0.j        ]] \n",
      "\n",
      "[[ 0.91757562+0.j          0.        +0.j          0.        +0.j        ]\n",
      " [ 0.44882921+0.84146195j  1.28560685+0.j          0.        +0.j        ]\n",
      " [-0.02146844+0.62702483j  0.39294764+0.63233859j  0.97247639+0.j        ]] \n",
      "\n",
      "[[ 1.5741347 +0.j          0.        +0.j          0.        +0.j        ]\n",
      " [ 0.06049845-0.15828112j  0.61215079+0.j          0.        +0.j        ]\n",
      " [ 0.0567228 +0.01677289j -0.008868  -0.05141692j  0.53184379+0.j        ]]\n"
     ]
    }
   ],
   "source": [
    "print(res.gs[0], \"\\n\")\n",
    "print(res.gs[1], \"\\n\")\n",
    "print(res.gs[2])"
   ]
  },
  {
   "cell_type": "markdown",
   "metadata": {},
   "source": [
    "Let's now check that the W tensor *cannot* be scaled to uniform marginals:"
   ]
  },
  {
   "cell_type": "code",
   "execution_count": 4,
   "metadata": {},
   "outputs": [
    {
     "data": {
      "text/plain": [
       "Result(success=False, iterations=100, max_dist=0.5934648479435459, ..., log_cap=None)"
      ]
     },
     "execution_count": 4,
     "metadata": {},
     "output_type": "execute_result"
    }
   ],
   "source": [
    "shape = [2, 2, 2, 2]\n",
    "W = np.zeros(shape)\n",
    "W[1, 0, 0, 0] = W[0, 1, 0, 0] = W[0, 0, 1, 0] = W[0, 0, 0, 1] = 0.5\n",
    "targets = [(0.5, 0.5)] * 4\n",
    "\n",
    "scale(W, targets, eps=1e-4, max_iterations=100)"
   ]
  },
  {
   "cell_type": "markdown",
   "metadata": {},
   "source": [
    "To see more clearly what is going on, we can set the `verbose` flag:"
   ]
  },
  {
   "cell_type": "code",
   "execution_count": 5,
   "metadata": {},
   "outputs": [
    {
     "name": "stdout",
     "output_type": "stream",
     "text": [
      "scaling tensor of shape (2, 2, 2, 2) and type float64\n",
      "target spectra:\n",
      "  0: (np.float64(0.5), np.float64(0.5))\n",
      "  1: (np.float64(0.5), np.float64(0.5))\n",
      "  2: (np.float64(0.5), np.float64(0.5))\n",
      "  3: (np.float64(0.5), np.float64(0.5))\n",
      "#000: max_dist = 0.35355339 @ sys = 3\n",
      "#001: max_dist = 0.47140452 @ sys = 2\n",
      "#002: max_dist = 0.56568542 @ sys = 0\n",
      "#003: max_dist = 0.62853936 @ sys = 1\n",
      "#004: max_dist = 0.58232323 @ sys = 3\n",
      "#005: max_dist = 0.59305730 @ sys = 2\n",
      "#006: max_dist = 0.59545834 @ sys = 0\n",
      "#007: max_dist = 0.59262283 @ sys = 1\n",
      "#008: max_dist = 0.59353004 @ sys = 3\n",
      "#009: max_dist = 0.59357133 @ sys = 2\n",
      "#010: max_dist = 0.59340661 @ sys = 0\n",
      "did not converge!\n"
     ]
    }
   ],
   "source": [
    "res = scale(W, targets, eps=1e-4, max_iterations=10, verbose=True)"
   ]
  },
  {
   "cell_type": "markdown",
   "metadata": {},
   "source": [
    "We see that at each point in the algorithm, one of the marginals has Frobenius distance $\\approx 0.59$ to being uniform. Indeed, we know that the entanglement polytope of the W tensor does not include the point corresponding to uniform marginals -- see [here](https://www.entanglement-polytopes.org/four_qubits) for an interactive visualization!"
   ]
  },
  {
   "cell_type": "markdown",
   "metadata": {},
   "source": [
    "# Tuples of matrices and tensors"
   ]
  },
  {
   "cell_type": "markdown",
   "metadata": {},
   "source": [
    "We can just as well only prescribe the desired spectra for subsystems.\n",
    "Note that prescribing two out of three marginals amounts to *operator scaling*."
   ]
  },
  {
   "cell_type": "code",
   "execution_count": 6,
   "metadata": {},
   "outputs": [
    {
     "data": {
      "text/plain": [
       "Result(success=True, iterations=55, max_dist=8.278433372817129e-07, ..., log_cap=-0.37573462134826935)"
      ]
     },
     "execution_count": 6,
     "metadata": {},
     "output_type": "execute_result"
    }
   ],
   "source": [
    "shape = [3, 3, 3]\n",
    "targets = [(0.4, 0.3, 0.3), (0.7, 0.2, 0.1)]\n",
    "\n",
    "res = scale(unit_tensor(3, 3), targets, eps=1e-6)\n",
    "res"
   ]
  },
  {
   "cell_type": "markdown",
   "metadata": {},
   "source": [
    "Indeed, the last two marginals are as prescribed, while the first marginal is arbitrary."
   ]
  },
  {
   "cell_type": "code",
   "execution_count": 7,
   "metadata": {},
   "outputs": [
    {
     "name": "stdout",
     "output_type": "stream",
     "text": [
      "[[ 3.0003e-01+0.j       1.7000e-04-0.00059j -4.7000e-04+0.00021j]\n",
      " [ 1.7000e-04+0.00059j  3.5636e-01+0.j      -2.7570e-02-0.02119j]\n",
      " [-4.7000e-04-0.00021j -2.7570e-02+0.02119j  3.4361e-01+0.j     ]] \n",
      "\n",
      "[[0.4+0.j 0. +0.j 0. -0.j]\n",
      " [0. -0.j 0.3+0.j 0. +0.j]\n",
      " [0. +0.j 0. -0.j 0.3+0.j]] \n",
      "\n",
      "[[ 0.7+0.j -0. +0.j  0. -0.j]\n",
      " [-0. -0.j  0.2+0.j -0. -0.j]\n",
      " [ 0. +0.j -0. +0.j  0.1+0.j]]\n"
     ]
    }
   ],
   "source": [
    "print(marginal(res.psi, 0).round(5), \"\\n\")\n",
    "print(marginal(res.psi, 1).round(5), \"\\n\")\n",
    "print(marginal(res.psi, 2).round(5))"
   ]
  }
 ],
 "metadata": {
  "kernelspec": {
   "display_name": "Python 3 (ipykernel)",
   "language": "python",
   "name": "python3"
  },
  "language_info": {
   "codemirror_mode": {
    "name": "ipython",
    "version": 3
   },
   "file_extension": ".py",
   "mimetype": "text/x-python",
   "name": "python",
   "nbconvert_exporter": "python",
   "pygments_lexer": "ipython3",
   "version": "3.12.5"
  }
 },
 "nbformat": 4,
 "nbformat_minor": 4
}
